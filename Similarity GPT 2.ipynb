{
 "cells": [
  {
   "cell_type": "code",
   "execution_count": 1,
   "id": "09dc7735",
   "metadata": {},
   "outputs": [],
   "source": [
    "import PyPDF2"
   ]
  },
  {
   "cell_type": "code",
   "execution_count": 3,
   "id": "80638639",
   "metadata": {},
   "outputs": [],
   "source": [
    "def extract_text_from_pdf(file_path):\n",
    "    text = \"\"\n",
    "    with open(file_path, \"rb\") as pdf_file:\n",
    "        pdf_reader = PyPDF2.PdfReader(pdf_file)\n",
    "#         for page_number in range(len(pdf_reader.pages)):\n",
    "        for page_number in range(1,2):\n",
    "            page = pdf_reader.pages[page_number]\n",
    "            text += page.extract_text()\n",
    "    return text"
   ]
  },
  {
   "cell_type": "code",
   "execution_count": 20,
   "id": "70bfe0f5",
   "metadata": {},
   "outputs": [],
   "source": [
    "from transformers import GPT2Tokenizer, GPT2Model\n",
    "import torch\n",
    "from scipy.spatial.distance import cosine\n",
    "\n"
   ]
  },
  {
   "cell_type": "code",
   "execution_count": 12,
   "id": "bb6a98c6",
   "metadata": {},
   "outputs": [],
   "source": [
    "def get_gpt2_embeddings(texts, model_name='gpt2'):\n",
    "    # Load GPT-2 model and tokenizer\n",
    "    tokenizer = GPT2Tokenizer.from_pretrained(model_name)\n",
    "    model = GPT2Model.from_pretrained(model_name)\n",
    "\n",
    "    if isinstance(texts, str):\n",
    "        texts = [texts]\n",
    "    \n",
    "    # Tokenize the input texts and convert them to tensors\n",
    "    inputs = tokenizer(texts, padding=True, truncation=True, return_tensors=\"pt\")\n",
    "    \n",
    "    # Feed inputs through the GPT-2 model to get embeddings\n",
    "    with torch.no_grad():\n",
    "        outputs = model(**inputs)\n",
    "\n",
    "    # Get embeddings for the entire input sequence (last hidden state of the last layer)\n",
    "    embeddings = outputs.last_hidden_state\n",
    "\n",
    "    return embeddings\n",
    "\n"
   ]
  },
  {
   "cell_type": "code",
   "execution_count": 6,
   "id": "6821c293",
   "metadata": {},
   "outputs": [],
   "source": [
    "pdf_file_path = \"paper1.pdf\"\n",
    "text1 = extract_text_from_pdf(pdf_file_path)\n",
    "\n",
    "\n",
    "# Compare with another text for similarity\n",
    "sample_file_path = \"paper2.pdf\"\n",
    "text2 = extract_text_from_pdf(sample_file_path)\n"
   ]
  },
  {
   "cell_type": "code",
   "execution_count": 15,
   "id": "81e6c5c2",
   "metadata": {},
   "outputs": [],
   "source": [
    "from sentence_transformers import SentenceTransformer, util"
   ]
  },
  {
   "cell_type": "code",
   "execution_count": 16,
   "id": "427e3679",
   "metadata": {},
   "outputs": [],
   "source": [
    "def calculate_similarity(text1, text2, model_name='paraphrase-MiniLM-L6-v2'):\n",
    "    model = SentenceTransformer(model_name)\n",
    "\n",
    "    # Encode the input texts to get embeddings\n",
    "    embeddings1 = model.encode(text1, convert_to_tensor=True)\n",
    "    embeddings2 = model.encode(text2, convert_to_tensor=True)\n",
    "\n",
    "    # Calculate cosine similarity between the two embeddings\n",
    "    similarity_score = util.pytorch_cos_sim(embeddings1, embeddings2).item()\n",
    "\n",
    "    return similarity_score\n"
   ]
  },
  {
   "cell_type": "code",
   "execution_count": 21,
   "id": "e1d43505",
   "metadata": {},
   "outputs": [
    {
     "name": "stdout",
     "output_type": "stream",
     "text": [
      "Similarity score: 0.3902309238910675\n"
     ]
    }
   ],
   "source": [
    "similarity_score = calculate_similarity(text1, text2)\n",
    "print(f\"Similarity score: {similarity_score}\")"
   ]
  },
  {
   "cell_type": "code",
   "execution_count": null,
   "id": "aa94d555",
   "metadata": {},
   "outputs": [],
   "source": []
  }
 ],
 "metadata": {
  "kernelspec": {
   "display_name": "Python 3 (ipykernel)",
   "language": "python",
   "name": "python3"
  },
  "language_info": {
   "codemirror_mode": {
    "name": "ipython",
    "version": 3
   },
   "file_extension": ".py",
   "mimetype": "text/x-python",
   "name": "python",
   "nbconvert_exporter": "python",
   "pygments_lexer": "ipython3",
   "version": "3.10.2"
  }
 },
 "nbformat": 4,
 "nbformat_minor": 5
}
