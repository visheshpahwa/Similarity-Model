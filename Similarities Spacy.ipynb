{
 "cells": [
  {
   "cell_type": "code",
   "execution_count": 11,
   "id": "ab38b63a",
   "metadata": {},
   "outputs": [],
   "source": [
    "import spacy\n",
    "\n",
    "spacy.prefer_gpu()\n",
    "nlp = spacy.load(\"en_core_web_sm\")"
   ]
  },
  {
   "cell_type": "code",
   "execution_count": 12,
   "id": "4a48a650",
   "metadata": {},
   "outputs": [],
   "source": [
    "import PyPDF2\n",
    "import spacy\n",
    "from spacy.matcher import PhraseMatcher\n",
    "from collections import Counter\n"
   ]
  },
  {
   "cell_type": "code",
   "execution_count": 13,
   "id": "06fb9107",
   "metadata": {},
   "outputs": [],
   "source": [
    "def extract_text_from_pdf(file_path):\n",
    "    text = \"\"\n",
    "    with open(file_path, \"rb\") as pdf_file:\n",
    "        pdf_reader = PyPDF2.PdfReader(pdf_file)\n",
    "#         for page_number in range(len(pdf_reader.pages)):\n",
    "        for page_number in range(1,2):\n",
    "            page = pdf_reader.pages[page_number]\n",
    "            text += page.extract_text()\n",
    "    return text\n"
   ]
  },
  {
   "cell_type": "code",
   "execution_count": 14,
   "id": "192a919a",
   "metadata": {},
   "outputs": [],
   "source": [
    "def process_text(text):\n",
    "    nlp = spacy.load(\"en_core_web_md\")\n",
    "    doc = nlp(text)\n",
    "    return doc\n"
   ]
  },
  {
   "cell_type": "code",
   "execution_count": 15,
   "id": "7c494d5e",
   "metadata": {},
   "outputs": [],
   "source": [
    "def calculate_text_similarity(doc1, doc2):\n",
    "    return doc1.similarity(doc2)\n"
   ]
  },
  {
   "cell_type": "code",
   "execution_count": 16,
   "id": "314741f1",
   "metadata": {},
   "outputs": [
    {
     "name": "stdout",
     "output_type": "stream",
     "text": [
      "Similarity Score: 0.938995256658532\n"
     ]
    }
   ],
   "source": [
    "# Fetch data from PDF and process it\n",
    "pdf_file_path = \"paper1.pdf\"\n",
    "pdf_text = extract_text_from_pdf(pdf_file_path)\n",
    "pdf_doc = process_text(pdf_text)\n",
    "\n",
    "# Compare with another text for similarity\n",
    "sample_file_path = \"paper2.pdf\"\n",
    "sample_text = extract_text_from_pdf(sample_file_path)\n",
    "sample_doc = process_text(sample_text)\n",
    "\n",
    "similarity_score = calculate_text_similarity(pdf_doc, sample_doc)\n",
    "print(\"Similarity Score:\", similarity_score)\n"
   ]
  },
  {
   "cell_type": "code",
   "execution_count": null,
   "id": "7528dd60",
   "metadata": {},
   "outputs": [],
   "source": []
  }
 ],
 "metadata": {
  "kernelspec": {
   "display_name": "Python 3 (ipykernel)",
   "language": "python",
   "name": "python3"
  },
  "language_info": {
   "codemirror_mode": {
    "name": "ipython",
    "version": 3
   },
   "file_extension": ".py",
   "mimetype": "text/x-python",
   "name": "python",
   "nbconvert_exporter": "python",
   "pygments_lexer": "ipython3",
   "version": "3.10.2"
  }
 },
 "nbformat": 4,
 "nbformat_minor": 5
}
