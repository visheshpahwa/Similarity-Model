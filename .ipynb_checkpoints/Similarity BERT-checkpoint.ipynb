{
 "cells": [
  {
   "cell_type": "code",
   "execution_count": 1,
   "id": "2ea8e61f",
   "metadata": {},
   "outputs": [],
   "source": [
    "import PyPDF2"
   ]
  },
  {
   "cell_type": "code",
   "execution_count": 2,
   "id": "05598a3e",
   "metadata": {},
   "outputs": [],
   "source": [
    "def extract_text_from_pdf(file_path):\n",
    "    text = \"\"\n",
    "    with open(file_path, \"rb\") as pdf_file:\n",
    "        pdf_reader = PyPDF2.PdfReader(pdf_file)\n",
    "#         for page_number in range(len(pdf_reader.pages)):\n",
    "        for page_number in range(1,2):\n",
    "            page = pdf_reader.pages[page_number]\n",
    "            text += page.extract_text()\n",
    "    return text"
   ]
  },
  {
   "cell_type": "code",
   "execution_count": 3,
   "id": "04cff9a7",
   "metadata": {},
   "outputs": [
    {
     "name": "stderr",
     "output_type": "stream",
     "text": [
      "C:\\Python310\\lib\\site-packages\\tqdm\\auto.py:21: TqdmWarning: IProgress not found. Please update jupyter and ipywidgets. See https://ipywidgets.readthedocs.io/en/stable/user_install.html\n",
      "  from .autonotebook import tqdm as notebook_tqdm\n"
     ]
    }
   ],
   "source": [
    "from transformers import BertTokenizer, BertModel\n",
    "import torch\n",
    "from scipy.spatial.distance import cosine"
   ]
  },
  {
   "cell_type": "code",
   "execution_count": 4,
   "id": "dd0748ef",
   "metadata": {},
   "outputs": [],
   "source": [
    "def get_bert_embeddings(texts, model_name='bert-base-uncased'):\n",
    "    # Load BERT model and tokenizer\n",
    "    tokenizer = BertTokenizer.from_pretrained(model_name)\n",
    "    model = BertModel.from_pretrained(model_name)\n",
    "\n",
    "    # Ensure texts is a list, even if it's just one text\n",
    "    if isinstance(texts, str):\n",
    "        texts = [texts]\n",
    "\n",
    "    # Tokenize the input texts and convert them to tensors\n",
    "    inputs = tokenizer(texts, padding=True, truncation=True, return_tensors=\"pt\")\n",
    "    \n",
    "    # Feed inputs through the BERT model to get embeddings\n",
    "    with torch.no_grad():\n",
    "        outputs = model(**inputs)\n",
    "\n",
    "    # Get embeddings for the [CLS] token (first token in each input)\n",
    "    embeddings = outputs.last_hidden_state[:, 0, :]\n",
    "\n",
    "    return embeddings"
   ]
  },
  {
   "cell_type": "code",
   "execution_count": 5,
   "id": "af49de70",
   "metadata": {},
   "outputs": [],
   "source": [
    "def calculate_similarity(text1, text2, model_name='bert-base-uncased'):\n",
    "    embeddings1 = get_bert_embeddings(text1, model_name)\n",
    "    embeddings2 = get_bert_embeddings(text2, model_name)\n",
    "\n",
    "    # Calculate cosine similarity between the two embeddings\n",
    "    similarity_score = 1 - cosine(embeddings1[0], embeddings2[0])\n",
    "\n",
    "    return similarity_score"
   ]
  },
  {
   "cell_type": "code",
   "execution_count": 6,
   "id": "e372af7e",
   "metadata": {},
   "outputs": [],
   "source": [
    "pdf_file_path = \"paper1.pdf\"\n",
    "text1 = extract_text_from_pdf(pdf_file_path)\n",
    "\n",
    "\n",
    "# Compare with another text for similarity\n",
    "sample_file_path = \"paper2.pdf\"\n",
    "text2 = extract_text_from_pdf(sample_file_path)"
   ]
  },
  {
   "cell_type": "code",
   "execution_count": 9,
   "id": "c2f1e169",
   "metadata": {},
   "outputs": [
    {
     "name": "stdout",
     "output_type": "stream",
     "text": [
      "Similarity score: 0.6714777946472168\n"
     ]
    }
   ],
   "source": [
    "similarity_score = calculate_similarity(text1, text2)\n",
    "print(f\"Similarity score: {similarity_score}\")"
   ]
  },
  {
   "cell_type": "code",
   "execution_count": null,
   "id": "5bc9aec3",
   "metadata": {},
   "outputs": [],
   "source": []
  }
 ],
 "metadata": {
  "kernelspec": {
   "display_name": "Python 3 (ipykernel)",
   "language": "python",
   "name": "python3"
  },
  "language_info": {
   "codemirror_mode": {
    "name": "ipython",
    "version": 3
   },
   "file_extension": ".py",
   "mimetype": "text/x-python",
   "name": "python",
   "nbconvert_exporter": "python",
   "pygments_lexer": "ipython3",
   "version": "3.10.2"
  }
 },
 "nbformat": 4,
 "nbformat_minor": 5
}
