{
 "cells": [
  {
   "cell_type": "code",
   "execution_count": 2,
   "id": "b4c67450",
   "metadata": {},
   "outputs": [],
   "source": [
    "import tensorflow as tf\n",
    "import tensorflow_hub as hub\n",
    "import numpy as np\n",
    "from sklearn.metrics.pairwise import cosine_similarity\n"
   ]
  },
  {
   "cell_type": "code",
   "execution_count": 3,
   "id": "d885418a",
   "metadata": {},
   "outputs": [],
   "source": [
    "elmo_model = hub.load(\"https://tfhub.dev/google/elmo/3\")\n"
   ]
  },
  {
   "cell_type": "code",
   "execution_count": 12,
   "id": "dc7aec70",
   "metadata": {},
   "outputs": [],
   "source": [
    "def elmo_embedding(texts):\n",
    "    embeddings = elmo_model.signatures[\"default\"](tf.constant(texts))\n",
    "    return embeddings[\"elmo\"]"
   ]
  },
  {
   "cell_type": "code",
   "execution_count": 5,
   "id": "2b438126",
   "metadata": {},
   "outputs": [],
   "source": [
    "import PyPDF2\n"
   ]
  },
  {
   "cell_type": "code",
   "execution_count": 6,
   "id": "68f888af",
   "metadata": {},
   "outputs": [],
   "source": [
    "def extract_text_from_pdf(file_path):\n",
    "    text = \"\"\n",
    "    with open(file_path, \"rb\") as pdf_file:\n",
    "        pdf_reader = PyPDF2.PdfReader(pdf_file)\n",
    "#         for page_number in range(len(pdf_reader.pages)):\n",
    "        for page_number in range(1,2):\n",
    "            page = pdf_reader.pages[page_number]\n",
    "            text += page.extract_text()\n",
    "    return text"
   ]
  },
  {
   "cell_type": "code",
   "execution_count": 7,
   "id": "8e3ca9fc",
   "metadata": {},
   "outputs": [],
   "source": [
    "pdf_file_path = \"paper1.pdf\"\n",
    "text1 = extract_text_from_pdf(pdf_file_path)\n",
    "\n",
    "\n",
    "# Compare with another text for similarity\n",
    "sample_file_path = \"paper2.pdf\"\n",
    "text2 = extract_text_from_pdf(sample_file_path)"
   ]
  },
  {
   "cell_type": "code",
   "execution_count": 15,
   "id": "bb8996eb",
   "metadata": {},
   "outputs": [],
   "source": [
    "texts = [text1, text2]\n",
    "embeddings = elmo_embedding(texts)\n",
    "\n",
    "# Extract ELMo embeddings for each text\n",
    "embedding_text1 = embeddings[0].numpy().flatten()\n",
    "embedding_text2 = embeddings[1].numpy().flatten()\n"
   ]
  },
  {
   "cell_type": "code",
   "execution_count": 16,
   "id": "9c3a0b57",
   "metadata": {},
   "outputs": [
    {
     "name": "stdout",
     "output_type": "stream",
     "text": [
      "Similarity Score: 0.12355532\n"
     ]
    }
   ],
   "source": [
    "similarity_score = cosine_similarity([embedding_text1], [embedding_text2])\n",
    "\n",
    "print(\"Similarity Score:\", similarity_score[0][0])"
   ]
  },
  {
   "cell_type": "code",
   "execution_count": null,
   "id": "b86b6f26",
   "metadata": {},
   "outputs": [],
   "source": []
  }
 ],
 "metadata": {
  "kernelspec": {
   "display_name": "Python 3 (ipykernel)",
   "language": "python",
   "name": "python3"
  },
  "language_info": {
   "codemirror_mode": {
    "name": "ipython",
    "version": 3
   },
   "file_extension": ".py",
   "mimetype": "text/x-python",
   "name": "python",
   "nbconvert_exporter": "python",
   "pygments_lexer": "ipython3",
   "version": "3.10.2"
  }
 },
 "nbformat": 4,
 "nbformat_minor": 5
}
